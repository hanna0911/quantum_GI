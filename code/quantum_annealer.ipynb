{
 "cells": [
  {
   "cell_type": "markdown",
   "metadata": {},
   "source": [
    "# Solving the Graph Isomorphism Problem with a Quantum Annealer"
   ]
  },
  {
   "cell_type": "code",
   "execution_count": null,
   "outputs": [],
   "source": [
    "import numpy as np\n",
    "import math\n",
    "import matplotlib.pyplot as plt\n",
    "import time\n",
    "import networkx as nx"
   ],
   "metadata": {
    "collapsed": false,
    "pycharm": {
     "name": "#%%\n"
    }
   }
  },
  {
   "cell_type": "markdown",
   "source": [
    "## 初步准备\n",
    "\n",
    "定义Pauli矩阵、恒同矩阵"
   ],
   "metadata": {
    "collapsed": false,
    "pycharm": {
     "name": "#%% md\n"
    }
   }
  },
  {
   "cell_type": "code",
   "execution_count": null,
   "outputs": [],
   "source": [
    "sigma_i = np.array([[1, 0], [0, 1]], dtype=complex)\n",
    "sigma_x = np.array([[0, 1], [1, 0]])\n",
    "sigma_y = np.array([[0, -1j], [1j, 0]], dtype=complex)\n",
    "sigma_z = np.array([[1, 0], [0, -1]], dtype=complex)\n",
    "I = np.identity(2)"
   ],
   "metadata": {
    "collapsed": false,
    "pycharm": {
     "name": "#%%\n"
    }
   }
  },
  {
   "cell_type": "markdown",
   "source": [
    "定义两个待测图的邻接矩阵A1、A2"
   ],
   "metadata": {
    "collapsed": false,
    "pycharm": {
     "name": "#%% md\n"
    }
   }
  },
  {
   "cell_type": "code",
   "execution_count": null,
   "outputs": [],
   "source": [
    "# 样例1\n",
    "\n",
    "# 图1\n",
    "# A1 = np.array([[0, 1, 0, 0, 1],\n",
    "#                [1, 0, 1, 0, 0],\n",
    "#                [0, 1, 0, 1, 0],\n",
    "#                [0, 0, 1, 0, 1],\n",
    "#                [1, 0, 0, 1, 0]], dtype = complex)\n",
    "\n",
    "# 图2（同构）\n",
    "# A2 = np.array([[0, 0, 1, 1, 0],\n",
    "#                [0, 0, 0, 1, 1],\n",
    "#                [1, 0, 0, 0, 1],\n",
    "#                [1, 1, 0, 0, 0],\n",
    "#                [0, 1, 1, 0, 0]], dtype = complex)\n",
    "\n",
    "# 图2（不同构）\n",
    "# A2 = np.array([[0, 0, 1, 0, 1],\n",
    "#                [0, 0, 0, 1, 1],\n",
    "#                [1, 0, 0, 0, 1],\n",
    "#                [1, 1, 0, 0, 0],\n",
    "#                [0, 1, 1, 0, 0]], dtype = complex)\n",
    "\n",
    "\n",
    "\n",
    "# 样例2\n",
    "\n",
    "A1 = np.array([[0, 1, 0, 0, 0, 0, 0, 0, 1],\n",
    "               [1, 0, 0, 0, 0, 0, 0, 0, 1],\n",
    "               [0, 0, 0, 1, 0, 0, 0, 0, 1],\n",
    "               [0, 0, 1, 0, 0, 0, 0, 0, 1],\n",
    "               [0, 0, 0, 0, 0, 1, 0, 0, 1],\n",
    "               [0, 0, 0, 0, 1, 0, 0, 0, 1],\n",
    "               [0, 0, 0, 0, 0, 0, 0, 1, 1],\n",
    "               [0, 0, 0, 0, 0, 0, 1, 0, 1],\n",
    "               [1, 1, 1, 1, 1, 1, 1, 1, 0]], dtype=complex)\n",
    "\n",
    "A2 = np.array([[0, 1, 1, 1, 1, 0, 0, 0, 0],\n",
    "               [1, 0, 1, 0, 0, 1, 1, 0, 0],\n",
    "               [1, 1, 0, 0, 0, 0, 0, 1, 1],\n",
    "               [1, 0, 0, 0, 1, 1, 0, 1, 0],\n",
    "               [1, 0, 0, 1, 0, 0, 1, 0, 1],\n",
    "               [0, 1, 0, 1, 0, 0, 1, 1, 0],\n",
    "               [0, 1, 0, 0, 1, 1, 0, 0, 1],\n",
    "               [0, 0, 1, 1, 0, 1, 0, 0, 1],\n",
    "               [0, 0, 1, 0, 1, 0, 1, 1, 0]], dtype=complex)\n",
    "\n",
    "# 样例3\n",
    "\n",
    "# dim=16, degree=6, lambda=2, mu=2\n",
    "# TOTAL NUMBER OF STRONGLY REGULAR GRAPHS = 2\n",
    "# http://www.maths.gla.ac.uk/~es/SRGs/16-6-2-2\n",
    "\n",
    "# A1 = np.array([\n",
    "# [0, 1, 1, 1, 1, 1, 1, 0, 0, 0, 0, 0, 0, 0, 0, 0],\n",
    "# [1, 0, 1, 1, 0, 0, 0, 1, 1, 1, 0, 0, 0, 0, 0, 0],\n",
    "# [1, 1, 0, 1, 0, 0, 0, 0, 0, 0, 1, 1, 1, 0, 0, 0],\n",
    "# [1, 1, 1, 0, 0, 0, 0, 0, 0, 0, 0, 0, 0, 1, 1, 1],\n",
    "# [1, 0, 0, 0, 0, 1, 1, 1, 0, 0, 1, 0, 0, 1, 0, 0],\n",
    "# [1, 0, 0, 0, 1, 0, 1, 0, 1, 0, 0, 1, 0, 0, 1, 0],\n",
    "# [1, 0, 0, 0, 1, 1, 0, 0, 0, 1, 0, 0, 1, 0, 0, 1],\n",
    "# [0, 1, 0, 0, 1, 0, 0, 0, 1, 1, 1, 0, 0, 1, 0, 0],\n",
    "# [0, 1, 0, 0, 0, 1, 0, 1, 0, 1, 0, 1, 0, 0, 1, 0],\n",
    "# [0, 1, 0, 0, 0, 0, 1, 1, 1, 0, 0, 0, 1, 0, 0, 1],\n",
    "# [0, 0, 1, 0, 1, 0, 0, 1, 0, 0, 0, 1, 1, 1, 0, 0],\n",
    "# [0, 0, 1, 0, 0, 1, 0, 0, 1, 0, 1, 0, 1, 0, 1, 0],\n",
    "# [0, 0, 1, 0, 0, 0, 1, 0, 0, 1, 1, 1, 0, 0, 0, 1],\n",
    "# [0, 0, 0, 1, 1, 0, 0, 1, 0, 0, 1, 0, 0, 0, 1, 1],\n",
    "# [0, 0, 0, 1, 0, 1, 0, 0, 1, 0, 0, 1, 0, 1, 0, 1],\n",
    "# [0, 0, 0, 1, 0, 0, 1, 0, 0, 1, 0, 0, 1, 1, 1, 0]\n",
    "# ], dtype = complex)\n",
    "\n",
    "# A2 = np.array([\n",
    "# [0, 1, 1, 1, 1, 1, 1, 0, 0, 0, 0, 0, 0, 0, 0, 0],\n",
    "# [1, 0, 1, 1, 0, 0, 0, 1, 1, 1, 0, 0, 0, 0, 0, 0],\n",
    "# [1, 1, 0, 0, 1, 0, 0, 1, 0, 0, 1, 1, 0, 0, 0, 0],\n",
    "# [1, 1, 0, 0, 0, 1, 0, 0, 1, 0, 0, 0, 1, 1, 0, 0],\n",
    "# [1, 0, 1, 0, 0, 0, 1, 0, 0, 0, 1, 0, 1, 0, 1, 0],\n",
    "# [1, 0, 0, 1, 0, 0, 1, 0, 0, 0, 0, 1, 0, 1, 0, 1],\n",
    "# [1, 0, 0, 0, 1, 1, 0, 0, 0, 1, 0, 0, 0, 0, 1, 1],\n",
    "# [0, 1, 1, 0, 0, 0, 0, 0, 0, 1, 0, 1, 0, 1, 1, 0],\n",
    "# [0, 1, 0, 1, 0, 0, 0, 0, 0, 1, 1, 0, 1, 0, 0, 1],\n",
    "# [0, 1, 0, 0, 0, 0, 1, 1, 1, 0, 0, 0, 0, 0, 1, 1],\n",
    "# [0, 0, 1, 0, 1, 0, 0, 0, 1, 0, 0, 1, 1, 0, 0, 1],\n",
    "# [0, 0, 1, 0, 0, 1, 0, 1, 0, 0, 1, 0, 0, 1, 0, 1],\n",
    "# [0, 0, 0, 1, 1, 0, 0, 0, 1, 0, 1, 0, 0, 1, 1, 0],\n",
    "# [0, 0, 0, 1, 0, 1, 0, 1, 0, 0, 0, 1, 1, 0, 1, 0],\n",
    "# [0, 0, 0, 0, 1, 0, 1, 1, 0, 1, 0, 0, 1, 1, 0, 0],\n",
    "# [0, 0, 0, 0, 0, 1, 1, 0, 1, 1, 1, 1, 0, 0, 0, 0]\n",
    "# ], dtype = complex)\n"
   ],
   "metadata": {
    "collapsed": false,
    "pycharm": {
     "name": "#%%\n"
    }
   }
  },
  {
   "cell_type": "code",
   "execution_count": null,
   "outputs": [],
   "source": [
    "def generate_graph():\n",
    "    G1, G2 = nx.Graph(), nx.Graph()\n",
    "    for i in range(len(A1)):\n",
    "        for j in range(len(A1)):\n",
    "            G1.add_edge(i, j)\n",
    "            G2.add_edge(i, j)\n",
    "    nx.draw(G1)\n",
    "    plt.show()\n",
    "    nx.draw(G2)\n",
    "    plt.show()\n",
    "\n",
    "generate_graph()"
   ],
   "metadata": {
    "collapsed": false,
    "pycharm": {
     "name": "#%%\n"
    }
   }
  },
  {
   "cell_type": "markdown",
   "source": [
    "定义后续运算所需的函数：计算Pauli-Spin的函数、进行向量单位化的函数"
   ],
   "metadata": {
    "collapsed": false,
    "pycharm": {
     "name": "#%% md\n"
    }
   }
  },
  {
   "cell_type": "code",
   "execution_count": null,
   "outputs": [],
   "source": [
    "def pauliZ_spin(k, N):  # 计算第k项为pauli-z，其他N-1项为I的张量积\n",
    "    pauliZ_spin_matrix = sigma_z if k == 0 else I\n",
    "    for i in range(N - 1):\n",
    "        pauliZ_spin_matrix = np.kron(pauliZ_spin_matrix, sigma_z) if i + 1 == k \\\n",
    "            else np.kron(pauliZ_spin_matrix, I)\n",
    "    return pauliZ_spin_matrix\n",
    "\n",
    "\n",
    "# 向量归一化\n",
    "def uniform(state):\n",
    "    s = 0\n",
    "    for i in state:\n",
    "        s += abs(i) ** 2\n",
    "    for i in range(len(state)):\n",
    "        state[i] /= np.sqrt(s)\n",
    "    return state"
   ],
   "metadata": {
    "collapsed": false,
    "pycharm": {
     "name": "#%%\n"
    }
   }
  },
  {
   "cell_type": "markdown",
   "source": [
    "## 建构哈密顿算子\n",
    "\n",
    "建构满足绝热量子演化$H(G) = (1 - s)H_0 + sH_p(G)$的初态哈密顿算子$H_0$、问题哈密顿算子$H_p(G)$"
   ],
   "metadata": {
    "collapsed": false,
    "pycharm": {
     "name": "#%% md\n"
    }
   }
  },
  {
   "cell_type": "code",
   "execution_count": null,
   "outputs": [],
   "source": [
    "def generate_H0(N):  # 容易制备和求解本征态的哈密顿量H0\n",
    "    H0 = np.zeros(2 ** N)\n",
    "    for i in range(N):\n",
    "        tmp = sigma_x\n",
    "        for j in range(i):\n",
    "            tmp = np.kron(I, tmp)\n",
    "        for j in range(N-i-1):\n",
    "            tmp = np.kron(tmp, I)\n",
    "        # print(\"tmp=\", tmp)\n",
    "        H0 = H0 + tmp\n",
    "    H0 /= 2\n",
    "    print(\"H0 =\", H0)\n",
    "    return H0\n",
    "\n",
    "\n",
    "def generate_HP(A):  # 目标哈密顿量（要求该哈密顿量的本征态）\n",
    "    N =  len(A)\n",
    "    HP = np.zeros(2 ** N)\n",
    "    for i in range(N):\n",
    "        for j in range(i+1, N):\n",
    "            if A[i][j] == 1:\n",
    "                tmp = sigma_z\n",
    "                for k in range(i):\n",
    "                    tmp = np.kron(I, tmp)\n",
    "                for k in range(j - i - 1):\n",
    "                    tmp = np.kron(tmp, I)\n",
    "                tmp = np.kron(tmp, sigma_z)\n",
    "                for k in range(N - j - 1):\n",
    "                    tmp = np.kron(tmp, I)\n",
    "                # print(\"tmp=\", tmp)\n",
    "                HP = HP + tmp\n",
    "    print(\"HP =\", HP)\n",
    "    return HP"
   ],
   "metadata": {
    "collapsed": false,
    "pycharm": {
     "name": "#%%\n"
    }
   }
  },
  {
   "cell_type": "code",
   "execution_count": null,
   "outputs": [],
   "source": [
    "H0 = generate_H0(len(A1))"
   ],
   "metadata": {
    "collapsed": false,
    "pycharm": {
     "name": "#%%\n"
    }
   }
  },
  {
   "cell_type": "code",
   "execution_count": null,
   "outputs": [],
   "source": [
    "H0_eigen = np.linalg.eig(H0)  # 耗时间，只计算一次"
   ],
   "metadata": {
    "collapsed": false,
    "pycharm": {
     "name": "#%%\n"
    }
   }
  },
  {
   "cell_type": "code",
   "execution_count": null,
   "outputs": [],
   "source": [
    "HP_1 = generate_HP(A1)"
   ],
   "metadata": {
    "collapsed": false,
    "pycharm": {
     "name": "#%%\n"
    }
   }
  },
  {
   "cell_type": "code",
   "execution_count": null,
   "outputs": [],
   "source": [
    "HP_2 = generate_HP(A2)"
   ],
   "metadata": {
    "collapsed": false,
    "pycharm": {
     "name": "#%%\n"
    }
   }
  },
  {
   "cell_type": "markdown",
   "source": [
    "## 执行绝热量子演化\n",
    "\n",
    "令$s = \\frac{t}{T}$，$t$从$0$开始每次循环增加$\\frac{1}{steps}$，循环共执行$steps$次，以此模拟$s$由$0$逼近$1$的演化过程"
   ],
   "metadata": {
    "collapsed": false,
    "pycharm": {
     "name": "#%% md\n"
    }
   }
  },
  {
   "cell_type": "code",
   "execution_count": null,
   "outputs": [],
   "source": [
    "def annealing_solver(steps, H0, H1):\n",
    "    print(f'\\nenter solver, total {steps} steps')\n",
    "    \n",
    "    t = 0\n",
    "    eg_vector1 = np.abs(H0_eigen[1][0])\n",
    "    eg_value1 = H0_eigen[0][0]\n",
    "    energy1 = [eg_value1]\n",
    "    Ht = H0   # 初始哈密顿量\n",
    "    h = 6.62607015e-34   # 普朗克常量\n",
    "    \n",
    "    def expectation_value(A, psi):  # 求A在状态psi下的期望值\n",
    "        norm_psi = psi / np.linalg.norm(psi)  # 单位化psi\n",
    "        expectation  = np.inner(np.conj(norm_psi).T, np.matmul(A, norm_psi) )  # Calculate <norm_psi|A|norm_psi> \n",
    "        return expectation\n",
    "\n",
    "    Q2 = []  # 无初始Q2\n",
    "    def generate_Q2(psi):  # spin-glass order parameter\n",
    "        # 计算 sigma { <pauli-z(i), pauli-z(j)> ^ 2 } (i != j)\n",
    "        N = int(np.log2(len(H0)))\n",
    "        sum = 0\n",
    "        for i in range(N):\n",
    "            for j in range(N):\n",
    "                if i == j:\n",
    "                    continue\n",
    "                sum = sum + expectation_value((pauliZ_spin(i, N) * pauliZ_spin(j, N)), psi) ** 2\n",
    "        \n",
    "        sum = sum / (N * (N - 1))\n",
    "        return np.sqrt(sum)\n",
    "\n",
    "    Mx = []  # 无初始Mx\n",
    "    \n",
    "    for s in range(steps):\n",
    "        start_loop = time.time()\n",
    "\n",
    "        t += 1 / steps\n",
    "        eg_vector_tmp1 = uniform(np.dot(Ht, eg_vector1) * (-1j) * (math.pi * 2 / steps) / h + eg_vector1)\n",
    "        Ht = (1 - t) * H0 + t * H1  # 哈密顿量\n",
    "\n",
    "        eg_value1 = np.abs(eg_vector_tmp1[0]) * eg_value1 / np.abs(eg_vector1[0])  # E = <H(G)>\n",
    "        spin_glass = generate_Q2(eg_vector_tmp1) # 计算Q2\n",
    "        x_magnetization = 2 * expectation_value(H0, eg_vector_tmp1) # 计算Mx\n",
    "\n",
    "        eg_vector1 = eg_vector_tmp1  # 更新状态phi\n",
    "        uniform(eg_vector1)\n",
    "\n",
    "        energy1.append(eg_value1)\n",
    "        Q2.append(spin_glass)\n",
    "        Mx.append(x_magnetization)\n",
    "        \n",
    "        print(f'step {s + 1} finished in {time.time() - start_loop} s')\n",
    "\n",
    "    # print(np.abs(uniform(eg_vector1)))\n",
    "    # return energy1, uniform(eg_vector1)\n",
    "    return energy1, Q2, Mx"
   ],
   "metadata": {
    "collapsed": false,
    "pycharm": {
     "name": "#%%\n"
    }
   }
  },
  {
   "cell_type": "code",
   "execution_count": null,
   "outputs": [],
   "source": [
    "energy1, Q2_1, Mx_1 = annealing_solver(100, H0, HP_1)"
   ],
   "metadata": {
    "collapsed": false,
    "pycharm": {
     "name": "#%%\n"
    }
   }
  },
  {
   "cell_type": "code",
   "execution_count": null,
   "outputs": [],
   "source": [
    "energy2, Q2_2, Mx_2 = annealing_solver(100, H0, HP_2)"
   ],
   "metadata": {
    "collapsed": false,
    "pycharm": {
     "name": "#%%\n"
    }
   }
  },
  {
   "cell_type": "code",
   "execution_count": 7,
   "metadata": {},
   "outputs": [],
   "source": [
    "H0_eigen = np.linalg.eig(H0)  # 耗时间，只计算一次"
   ]
  },
  {
   "cell_type": "code",
   "execution_count": 8,
   "metadata": {},
   "outputs": [
    {
     "name": "stdout",
     "output_type": "stream",
     "text": [
      "HP = [[12.+0.j  0.+0.j  0.+0.j ...  0.+0.j  0.+0.j  0.+0.j]\n",
      " [ 0.+0.j -4.+0.j  0.+0.j ...  0.+0.j  0.+0.j  0.+0.j]\n",
      " [ 0.+0.j  0.+0.j  8.+0.j ...  0.+0.j  0.+0.j  0.+0.j]\n",
      " ...\n",
      " [ 0.+0.j  0.+0.j  0.+0.j ...  8.+0.j  0.+0.j  0.+0.j]\n",
      " [ 0.+0.j  0.+0.j  0.+0.j ...  0.+0.j -4.+0.j  0.+0.j]\n",
      " [ 0.+0.j  0.+0.j  0.+0.j ...  0.+0.j  0.+0.j 12.+0.j]]\n"
     ]
    }
   ],
   "source": [
    "HP_1 = generate_HP(A1)"
   ]
  },
  {
   "cell_type": "code",
   "execution_count": 9,
   "metadata": {},
   "outputs": [
    {
     "name": "stdout",
     "output_type": "stream",
     "text": [
      "HP = [[18.+0.j  0.+0.j  0.+0.j ...  0.+0.j  0.+0.j  0.+0.j]\n",
      " [ 0.+0.j 10.+0.j  0.+0.j ...  0.+0.j  0.+0.j  0.+0.j]\n",
      " [ 0.+0.j  0.+0.j 10.+0.j ...  0.+0.j  0.+0.j  0.+0.j]\n",
      " ...\n",
      " [ 0.+0.j  0.+0.j  0.+0.j ... 10.+0.j  0.+0.j  0.+0.j]\n",
      " [ 0.+0.j  0.+0.j  0.+0.j ...  0.+0.j 10.+0.j  0.+0.j]\n",
      " [ 0.+0.j  0.+0.j  0.+0.j ...  0.+0.j  0.+0.j 18.+0.j]]\n"
     ]
    }
   ],
   "source": [
    "HP_2 = generate_HP(A2)"
   ]
  },
  {
   "cell_type": "markdown",
   "metadata": {},
   "source": [
    "## 执行绝热量子演化\n",
    "\n",
    "令$s = \\frac{t}{T}$，$t$从$0$开始每次循环增加$\\frac{1}{steps}$，循环共执行$steps$次，以此模拟$s$由$0$逼近$1$的演化过程"
   ]
  },
  {
   "cell_type": "code",
   "execution_count": 10,
   "metadata": {},
   "outputs": [],
   "source": [
    "def annealing_solver(steps, H0, H1):\n",
    "    print(f'\\nenter solver, total {steps} steps')\n",
    "    \n",
    "    t = 0\n",
    "    eg_vector1 = np.abs(H0_eigen[1][0])\n",
    "    eg_value1 = H0_eigen[0][0]\n",
    "    energy1 = [eg_value1]\n",
    "    Ht = H0   # 初始哈密顿量\n",
    "    h = 6.62607015e-34   # 普朗克常量\n",
    "    \n",
    "    def expectation_value(A, psi):  # 求A在状态psi下的期望值\n",
    "        norm_psi = psi / np.linalg.norm(psi)  # 单位化psi\n",
    "        expectation  = np.inner(np.conj(norm_psi).T, np.matmul(A, norm_psi) )  # Calculate <norm_psi|A|norm_psi> \n",
    "        return expectation\n",
    "\n",
    "    Q2 = []  # 无初始Q2\n",
    "    def generate_Q2(psi):  # spin-glass order parameter\n",
    "        # 计算 sigma { <pauli-z(i), pauli-z(j)> ^ 2 } (i != j)\n",
    "        N = int(np.log2(len(H0)))\n",
    "        sum = 0\n",
    "        for i in range(N):\n",
    "            for j in range(N):\n",
    "                if i == j:\n",
    "                    continue\n",
    "                sum = sum + expectation_value((pauliZ_spin(i, N) * pauliZ_spin(j, N)), psi) ** 2\n",
    "        \n",
    "        sum = sum / (N * (N - 1))\n",
    "        return np.sqrt(sum)\n",
    "\n",
    "    Mx = []  # 无初始Mx\n",
    "    \n",
    "    for s in range(steps):\n",
    "        start_loop = time.time()\n",
    "\n",
    "        t += 1 / steps\n",
    "        eg_vector_tmp1 = uniform(np.dot(Ht, eg_vector1) * (-1j) * (math.pi * 2 / steps) / h + eg_vector1)\n",
    "        Ht = (1 - t) * H0 + t * H1  # 哈密顿量\n",
    "\n",
    "        eg_value1 = np.abs(eg_vector_tmp1[0]) * eg_value1 / np.abs(eg_vector1[0])  # E = <H(G)>\n",
    "        spin_glass = generate_Q2(eg_vector_tmp1) # 计算Q2\n",
    "        x_magnetization = 2 * expectation_value(H0, eg_vector_tmp1) # 计算Mx\n",
    "\n",
    "        eg_vector1 = eg_vector_tmp1  # 更新状态phi\n",
    "        uniform(eg_vector1)\n",
    "\n",
    "        energy1.append(eg_value1)\n",
    "        Q2.append(spin_glass)\n",
    "        Mx.append(x_magnetization)\n",
    "        \n",
    "        print(f'step {s + 1} finished in {time.time() - start_loop} s')\n",
    "\n",
    "    # print(np.abs(uniform(eg_vector1)))\n",
    "    # return energy1, uniform(eg_vector1)\n",
    "    return energy1, Q2, Mx"
   ]
  },
  {
   "cell_type": "code",
   "execution_count": 11,
   "metadata": {},
   "outputs": [
    {
     "name": "stdout",
     "output_type": "stream",
     "text": [
      "\n",
      "enter solver, total 100 steps\n",
      "step 1 finished in 0.8705539703369141 s\n",
      "step 2 finished in 0.9085390567779541 s\n",
      "step 3 finished in 0.8843410015106201 s\n",
      "step 4 finished in 0.8775420188903809 s\n",
      "step 5 finished in 0.8866701126098633 s\n",
      "step 6 finished in 0.8897819519042969 s\n",
      "step 7 finished in 0.8881011009216309 s\n",
      "step 8 finished in 0.8836019039154053 s\n",
      "step 9 finished in 0.8786568641662598 s\n",
      "step 10 finished in 0.8673663139343262 s\n",
      "step 11 finished in 0.8812510967254639 s\n",
      "step 12 finished in 0.8838012218475342 s\n",
      "step 13 finished in 0.8633949756622314 s\n",
      "step 14 finished in 0.865692138671875 s\n",
      "step 15 finished in 0.919363260269165 s\n",
      "step 16 finished in 0.8946897983551025 s\n",
      "step 17 finished in 0.8383259773254395 s\n",
      "step 18 finished in 0.8719892501831055 s\n",
      "step 19 finished in 0.8754589557647705 s\n",
      "step 20 finished in 0.9006109237670898 s\n",
      "step 21 finished in 0.8770999908447266 s\n",
      "step 22 finished in 0.8905353546142578 s\n",
      "step 23 finished in 0.8406181335449219 s\n",
      "step 24 finished in 0.8532941341400146 s\n",
      "step 25 finished in 0.8468132019042969 s\n",
      "step 26 finished in 0.8458149433135986 s\n",
      "step 27 finished in 0.8887898921966553 s\n",
      "step 28 finished in 0.8287410736083984 s\n",
      "step 29 finished in 0.8574020862579346 s\n",
      "step 30 finished in 0.8656761646270752 s\n",
      "step 31 finished in 0.8636059761047363 s\n",
      "step 32 finished in 0.8809852600097656 s\n",
      "step 33 finished in 0.8614282608032227 s\n",
      "step 34 finished in 0.8298001289367676 s\n",
      "step 35 finished in 0.8370752334594727 s\n",
      "step 36 finished in 0.8403308391571045 s\n",
      "step 37 finished in 0.8390531539916992 s\n",
      "step 38 finished in 0.8427019119262695 s\n",
      "step 39 finished in 0.8455381393432617 s\n",
      "step 40 finished in 0.8492181301116943 s\n",
      "step 41 finished in 0.9555671215057373 s\n",
      "step 42 finished in 1.053239107131958 s\n",
      "step 43 finished in 0.8119220733642578 s\n",
      "step 44 finished in 0.8712060451507568 s\n",
      "step 45 finished in 0.8415710926055908 s\n",
      "step 46 finished in 0.7988369464874268 s\n",
      "step 47 finished in 0.8517131805419922 s\n",
      "step 48 finished in 0.8136639595031738 s\n",
      "step 49 finished in 0.8017451763153076 s\n",
      "step 50 finished in 0.8388009071350098 s\n",
      "step 51 finished in 0.8104119300842285 s\n",
      "step 52 finished in 0.7946150302886963 s\n",
      "step 53 finished in 0.7953610420227051 s\n",
      "step 54 finished in 0.8121697902679443 s\n",
      "step 55 finished in 0.8266730308532715 s\n",
      "step 56 finished in 0.8309738636016846 s\n",
      "step 57 finished in 0.8360593318939209 s\n",
      "step 58 finished in 0.8145368099212646 s\n",
      "step 59 finished in 0.7816638946533203 s\n",
      "step 60 finished in 0.8132271766662598 s\n",
      "step 61 finished in 0.8266448974609375 s\n",
      "step 62 finished in 0.8183050155639648 s\n",
      "step 63 finished in 0.8235399723052979 s\n",
      "step 64 finished in 0.8387351036071777 s\n",
      "step 65 finished in 0.8121547698974609 s\n",
      "step 66 finished in 0.8044910430908203 s\n",
      "step 67 finished in 0.8539469242095947 s\n",
      "step 68 finished in 0.7763950824737549 s\n",
      "step 69 finished in 0.7692270278930664 s\n",
      "step 70 finished in 0.7977509498596191 s\n",
      "step 71 finished in 0.8071770668029785 s\n",
      "step 72 finished in 0.8336877822875977 s\n",
      "step 73 finished in 0.8342850208282471 s\n",
      "step 74 finished in 0.8117129802703857 s\n",
      "step 75 finished in 0.7936110496520996 s\n",
      "step 76 finished in 0.9569211006164551 s\n",
      "step 77 finished in 0.9592530727386475 s\n",
      "step 78 finished in 0.8751258850097656 s\n",
      "step 79 finished in 0.8364689350128174 s\n",
      "step 80 finished in 0.842566967010498 s\n",
      "step 81 finished in 0.8253979682922363 s\n",
      "step 82 finished in 0.8414669036865234 s\n",
      "step 83 finished in 0.842292070388794 s\n",
      "step 84 finished in 0.8468620777130127 s\n",
      "step 85 finished in 0.9073460102081299 s\n",
      "step 86 finished in 0.9078421592712402 s\n",
      "step 87 finished in 0.8376979827880859 s\n",
      "step 88 finished in 0.8339128494262695 s\n",
      "step 89 finished in 0.8351807594299316 s\n",
      "step 90 finished in 0.8544652462005615 s\n",
      "step 91 finished in 0.8392488956451416 s\n",
      "step 92 finished in 0.9319028854370117 s\n",
      "step 93 finished in 0.8790709972381592 s\n",
      "step 94 finished in 0.8658621311187744 s\n",
      "step 95 finished in 0.9425437450408936 s\n",
      "step 96 finished in 0.9455227851867676 s\n",
      "step 97 finished in 0.8178539276123047 s\n",
      "step 98 finished in 1.0062298774719238 s\n",
      "step 99 finished in 0.9200150966644287 s\n",
      "step 100 finished in 0.869232177734375 s\n"
     ]
    }
   ],
   "source": [
    "energy1, Q2_1, Mx_1 = annealing_solver(100, H0, HP_1)"
   ]
  },
  {
   "cell_type": "code",
   "execution_count": 12,
   "metadata": {},
   "outputs": [
    {
     "name": "stdout",
     "output_type": "stream",
     "text": [
      "\n",
      "enter solver, total 100 steps\n",
      "step 1 finished in 0.8821160793304443 s\n",
      "step 2 finished in 0.841407060623169 s\n",
      "step 3 finished in 0.842926025390625 s\n",
      "step 4 finished in 0.819195032119751 s\n",
      "step 5 finished in 0.8939609527587891 s\n",
      "step 6 finished in 0.9377610683441162 s\n",
      "step 7 finished in 0.885282039642334 s\n",
      "step 8 finished in 0.8652451038360596 s\n",
      "step 9 finished in 0.8876650333404541 s\n",
      "step 10 finished in 0.902595043182373 s\n",
      "step 11 finished in 0.8727309703826904 s\n",
      "step 12 finished in 0.8436658382415771 s\n",
      "step 13 finished in 0.8666930198669434 s\n",
      "step 14 finished in 0.8754768371582031 s\n",
      "step 15 finished in 0.9223039150238037 s\n",
      "step 16 finished in 0.9276480674743652 s\n",
      "step 17 finished in 0.9081549644470215 s\n",
      "step 18 finished in 0.9279427528381348 s\n",
      "step 19 finished in 0.8420989513397217 s\n",
      "step 20 finished in 0.8732619285583496 s\n",
      "step 21 finished in 0.868110179901123 s\n",
      "step 22 finished in 0.8823659420013428 s\n",
      "step 23 finished in 0.8978550434112549 s\n",
      "step 24 finished in 0.9044568538665771 s\n",
      "step 25 finished in 0.8995468616485596 s\n",
      "step 26 finished in 0.9214820861816406 s\n",
      "step 27 finished in 0.8437619209289551 s\n",
      "step 28 finished in 0.858860969543457 s\n",
      "step 29 finished in 0.8906717300415039 s\n",
      "step 30 finished in 0.9106490612030029 s\n",
      "step 31 finished in 0.8649101257324219 s\n",
      "step 32 finished in 0.8650541305541992 s\n",
      "step 33 finished in 0.8767218589782715 s\n",
      "step 34 finished in 0.8889949321746826 s\n",
      "step 35 finished in 0.9034988880157471 s\n",
      "step 36 finished in 0.9052779674530029 s\n",
      "step 37 finished in 0.9096059799194336 s\n",
      "step 38 finished in 0.8599488735198975 s\n",
      "step 39 finished in 0.8675730228424072 s\n",
      "step 40 finished in 0.9595048427581787 s\n",
      "step 41 finished in 0.9040791988372803 s\n",
      "step 42 finished in 0.871950626373291 s\n",
      "step 43 finished in 0.868523120880127 s\n",
      "step 44 finished in 0.8661408424377441 s\n",
      "step 45 finished in 0.8860468864440918 s\n",
      "step 46 finished in 0.9441862106323242 s\n",
      "step 47 finished in 1.0933308601379395 s\n",
      "step 48 finished in 0.9141020774841309 s\n",
      "step 49 finished in 0.8763377666473389 s\n",
      "step 50 finished in 0.8803279399871826 s\n",
      "step 51 finished in 0.9737868309020996 s\n",
      "step 52 finished in 0.8816847801208496 s\n",
      "step 53 finished in 0.8491671085357666 s\n",
      "step 54 finished in 0.8806290626525879 s\n",
      "step 55 finished in 0.8729279041290283 s\n",
      "step 56 finished in 0.9141318798065186 s\n",
      "step 57 finished in 0.9583921432495117 s\n",
      "step 58 finished in 0.879143238067627 s\n",
      "step 59 finished in 0.8409750461578369 s\n",
      "step 60 finished in 0.8792667388916016 s\n",
      "step 61 finished in 0.9218428134918213 s\n",
      "step 62 finished in 0.8736209869384766 s\n",
      "step 63 finished in 0.8806381225585938 s\n",
      "step 64 finished in 0.9073278903961182 s\n",
      "step 65 finished in 0.9082279205322266 s\n",
      "step 66 finished in 0.8423309326171875 s\n",
      "step 67 finished in 0.8463737964630127 s\n",
      "step 68 finished in 0.8287460803985596 s\n",
      "step 69 finished in 0.8348312377929688 s\n",
      "step 70 finished in 0.8343789577484131 s\n",
      "step 71 finished in 0.8713040351867676 s\n",
      "step 72 finished in 0.8681449890136719 s\n",
      "step 73 finished in 0.8945419788360596 s\n",
      "step 74 finished in 0.8713958263397217 s\n",
      "step 75 finished in 0.8831908702850342 s\n",
      "step 76 finished in 0.8891479969024658 s\n",
      "step 77 finished in 0.8769607543945312 s\n",
      "step 78 finished in 0.8602843284606934 s\n",
      "step 79 finished in 0.8796720504760742 s\n",
      "step 80 finished in 0.8730580806732178 s\n",
      "step 81 finished in 0.9166469573974609 s\n",
      "step 82 finished in 0.8701190948486328 s\n",
      "step 83 finished in 0.8297250270843506 s\n",
      "step 84 finished in 0.8411848545074463 s\n",
      "step 85 finished in 0.894751787185669 s\n",
      "step 86 finished in 0.8446459770202637 s\n",
      "step 87 finished in 0.8442091941833496 s\n",
      "step 88 finished in 0.8805129528045654 s\n",
      "step 89 finished in 0.8475399017333984 s\n",
      "step 90 finished in 0.8388500213623047 s\n",
      "step 91 finished in 0.8822340965270996 s\n",
      "step 92 finished in 0.9325339794158936 s\n",
      "step 93 finished in 0.8375668525695801 s\n",
      "step 94 finished in 0.8278779983520508 s\n",
      "step 95 finished in 0.8394491672515869 s\n",
      "step 96 finished in 0.8628652095794678 s\n",
      "step 97 finished in 0.8266050815582275 s\n",
      "step 98 finished in 0.8616769313812256 s\n",
      "step 99 finished in 0.8622510433197021 s\n",
      "step 100 finished in 0.862318754196167 s\n"
     ]
    }
   ],
   "source": [
    "energy2, Q2_2, Mx_2 = annealing_solver(100, H0, HP_2)"
   ]
  },
  {
   "cell_type": "markdown",
   "metadata": {},
   "source": [
    "## 作图展示结果\n",
    "\n",
    "若energy曲线与Q2曲线均重合，则说明二图同构；反之则二图不同构"
   ]
  },
  {
   "cell_type": "code",
   "execution_count": 13,
   "metadata": {},
   "outputs": [
    {
     "name": "stderr",
     "output_type": "stream",
     "text": [
      "/Library/Frameworks/Python.framework/Versions/3.9/lib/python3.9/site-packages/matplotlib/cbook/__init__.py:1333: ComplexWarning: Casting complex values to real discards the imaginary part\n",
      "  return np.asarray(x, float)\n"
     ]
    },
    {
     "data": {
      "image/png": "[encoded data removed]",
      "text/plain": [
       "<Figure size 432x288 with 1 Axes>"
      ]
     },
     "metadata": {
      "needs_background": "light"
     },
     "output_type": "display_data"
    },
    {
     "name": "stdout",
     "output_type": "stream",
     "text": [
      "energy1: (73.3418437052696+0j)\n",
      "energy2: (74.87244359373983+0j)\n"
     ]
    },
    {
     "data": {
      "image/png": "[encoded data removed]",
      "text/plain": [
       "<Figure size 432x288 with 1 Axes>"
      ]
     },
     "metadata": {
      "needs_background": "light"
     },
     "output_type": "display_data"
    },
    {
     "name": "stdout",
     "output_type": "stream",
     "text": [
      "Q2_1: (0.9999443651063884+0j)\n",
      "Q2_2: (0.9999914942323809+0j)\n"
     ]
    },
    {
     "data": {
      "image/png": "[encoded data removed]",
      "text/plain": [
       "<Figure size 432x288 with 1 Axes>"
      ]
     },
     "metadata": {
      "needs_background": "light"
     },
     "output_type": "display_data"
    },
    {
     "name": "stdout",
     "output_type": "stream",
     "text": [
      "Mx_1: (0.9999443651063884+0j)\n",
      "Mx_2: (0.9999914942323809+0j)\n"
     ]
    }
   ],
   "source": [
    "plt.figure()\n",
    "plt.plot(energy1, c = 'blue')\n",
    "plt.plot(energy2, c = 'red')\n",
    "plt.xlabel('adiabatic parameter steps')\n",
    "plt.ylabel('average energy E')\n",
    "plt.show()\n",
    "print('energy1:', energy1[len(energy1) - 1])\n",
    "print('energy2:', energy2[len(energy2) - 1])\n",
    "\n",
    "plt.plot(Q2_1, c = 'blue')\n",
    "plt.plot(Q2_2, c = 'red')\n",
    "plt.xlabel('adiabatic parameter steps')\n",
    "plt.ylabel('spin-glass order parameter Q2')\n",
    "plt.show()\n",
    "print('Q2_1:', Q2_1[len(Q2_1) - 1])\n",
    "print('Q2_2:', Q2_2[len(Q2_2) - 1])\n",
    "\n",
    "plt.plot(Mx_1, c = 'blue')\n",
    "plt.plot(Mx_2, c = 'red')\n",
    "plt.xlabel('adiabatic parameter steps')\n",
    "plt.ylabel('x-magnetization Mx')\n",
    "plt.show()\n",
    "print('Mx_1:', Q2_1[len(Mx_1) - 1])\n",
    "print('Mx_2:', Q2_2[len(Mx_2) - 1])"
   ]
  }
 ],
 "metadata": {
  "kernelspec": {
   "display_name": "Python 3.10.4 64-bit",
   "language": "python",
   "name": "python3"
  },
  "language_info": {
   "codemirror_mode": {
    "name": "ipython",
    "version": 3
   },
   "file_extension": ".py",
   "mimetype": "text/x-python",
   "name": "python",
   "nbconvert_exporter": "python",
   "pygments_lexer": "ipython3",
   "version": "3.10.4"
  },
  "orig_nbformat": 4,
  "vscode": {
   "interpreter": {
    "hash": "1fa163922eb0b3709bbb5d8082b2465c9de796dbaacca80cbaa600e7fff3e4fe"
   }
  }
 },
 "nbformat": 4,
 "nbformat_minor": 2
}